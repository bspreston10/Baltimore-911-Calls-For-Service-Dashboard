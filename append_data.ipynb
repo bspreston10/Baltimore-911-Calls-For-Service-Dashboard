{
 "cells": [
  {
   "cell_type": "code",
   "execution_count": 1,
   "metadata": {},
   "outputs": [],
   "source": [
    "import pandas as pd "
   ]
  },
  {
   "cell_type": "code",
   "execution_count": 4,
   "metadata": {},
   "outputs": [],
   "source": [
    "csv_files = [f\"bmore_police_{year}.csv\" for year in range(2014, 2025)]"
   ]
  },
  {
   "cell_type": "code",
   "execution_count": 6,
   "metadata": {},
   "outputs": [
    {
     "name": "stderr",
     "output_type": "stream",
     "text": [
      "/var/folders/kq/dy0jdntd27z3gx741y_j5p880000gn/T/ipykernel_63091/2798408058.py:1: DtypeWarning: Columns (1,6) have mixed types. Specify dtype option on import or set low_memory=False.\n",
      "  full_data = pd.concat([pd.read_csv(file) for file in csv_files], axis=0, ignore_index=True)\n"
     ]
    }
   ],
   "source": [
    "full_data = pd.concat([pd.read_csv(file) for file in csv_files], axis=0, ignore_index=True)"
   ]
  },
  {
   "cell_type": "code",
   "execution_count": 9,
   "metadata": {},
   "outputs": [
    {
     "data": {
      "text/html": [
       "<div>\n",
       "<style scoped>\n",
       "    .dataframe tbody tr th:only-of-type {\n",
       "        vertical-align: middle;\n",
       "    }\n",
       "\n",
       "    .dataframe tbody tr th {\n",
       "        vertical-align: top;\n",
       "    }\n",
       "\n",
       "    .dataframe thead th {\n",
       "        text-align: right;\n",
       "    }\n",
       "</style>\n",
       "<table border=\"1\" class=\"dataframe\">\n",
       "  <thead>\n",
       "    <tr style=\"text-align: right;\">\n",
       "      <th></th>\n",
       "      <th>callKey</th>\n",
       "      <th>callDateTime</th>\n",
       "      <th>priority</th>\n",
       "      <th>district</th>\n",
       "      <th>description</th>\n",
       "      <th>callNumber</th>\n",
       "      <th>location</th>\n",
       "      <th>Neighborhood</th>\n",
       "      <th>PoliceDistrict</th>\n",
       "      <th>ZIPCode</th>\n",
       "    </tr>\n",
       "  </thead>\n",
       "  <tbody>\n",
       "    <tr>\n",
       "      <th>0</th>\n",
       "      <td>707029823</td>\n",
       "      <td>2015-01-01 04:59:00+00:00</td>\n",
       "      <td>Medium</td>\n",
       "      <td>ND</td>\n",
       "      <td>911/No Voice</td>\n",
       "      <td>150010002</td>\n",
       "      <td>1600 W 41ST ST BALTIMORE MD</td>\n",
       "      <td>Medfield</td>\n",
       "      <td>Northern</td>\n",
       "      <td>21211.0</td>\n",
       "    </tr>\n",
       "    <tr>\n",
       "      <th>1</th>\n",
       "      <td>707029826</td>\n",
       "      <td>2015-01-01 04:59:00+00:00</td>\n",
       "      <td>Medium</td>\n",
       "      <td>SW</td>\n",
       "      <td>Family Disturb</td>\n",
       "      <td>150010004</td>\n",
       "      <td>2500 TOLLEY ST BALTIMORE MD</td>\n",
       "      <td>Morrell Park</td>\n",
       "      <td>Southwestern</td>\n",
       "      <td>21230.0</td>\n",
       "    </tr>\n",
       "    <tr>\n",
       "      <th>2</th>\n",
       "      <td>707029827</td>\n",
       "      <td>2015-01-01 04:59:00+00:00</td>\n",
       "      <td>Medium</td>\n",
       "      <td>WD</td>\n",
       "      <td>Burglary</td>\n",
       "      <td>150010005</td>\n",
       "      <td>900 BENNETT PL BALTIMORE MD</td>\n",
       "      <td>Harlem Park</td>\n",
       "      <td>Western</td>\n",
       "      <td>21223.0</td>\n",
       "    </tr>\n",
       "    <tr>\n",
       "      <th>3</th>\n",
       "      <td>707029824</td>\n",
       "      <td>2015-01-01 04:58:00+00:00</td>\n",
       "      <td>Low</td>\n",
       "      <td>ND</td>\n",
       "      <td>Other</td>\n",
       "      <td>150010003</td>\n",
       "      <td>2500 W BELVEDERE AV BALTIMORE MD</td>\n",
       "      <td>Pimlico Good Neighbors</td>\n",
       "      <td>Northwestern</td>\n",
       "      <td>21215.0</td>\n",
       "    </tr>\n",
       "    <tr>\n",
       "      <th>4</th>\n",
       "      <td>707029819</td>\n",
       "      <td>2015-01-01 04:58:00+00:00</td>\n",
       "      <td>Low</td>\n",
       "      <td>NE</td>\n",
       "      <td>Traffic Stop</td>\n",
       "      <td>143652833</td>\n",
       "      <td>2200-BLK LONGVIEW AV BALTIMORE MD</td>\n",
       "      <td>Four By Four</td>\n",
       "      <td>Northeastern</td>\n",
       "      <td>21213.0</td>\n",
       "    </tr>\n",
       "  </tbody>\n",
       "</table>\n",
       "</div>"
      ],
      "text/plain": [
       "     callKey               callDateTime priority district     description  \\\n",
       "0  707029823  2015-01-01 04:59:00+00:00   Medium       ND    911/No Voice   \n",
       "1  707029826  2015-01-01 04:59:00+00:00   Medium       SW  Family Disturb   \n",
       "2  707029827  2015-01-01 04:59:00+00:00   Medium       WD        Burglary   \n",
       "3  707029824  2015-01-01 04:58:00+00:00      Low       ND           Other   \n",
       "4  707029819  2015-01-01 04:58:00+00:00      Low       NE    Traffic Stop   \n",
       "\n",
       "  callNumber                           location            Neighborhood  \\\n",
       "0  150010002        1600 W 41ST ST BALTIMORE MD                Medfield   \n",
       "1  150010004        2500 TOLLEY ST BALTIMORE MD            Morrell Park   \n",
       "2  150010005        900 BENNETT PL BALTIMORE MD             Harlem Park   \n",
       "3  150010003   2500 W BELVEDERE AV BALTIMORE MD  Pimlico Good Neighbors   \n",
       "4  143652833  2200-BLK LONGVIEW AV BALTIMORE MD            Four By Four   \n",
       "\n",
       "  PoliceDistrict  ZIPCode  \n",
       "0       Northern  21211.0  \n",
       "1   Southwestern  21230.0  \n",
       "2        Western  21223.0  \n",
       "3   Northwestern  21215.0  \n",
       "4   Northeastern  21213.0  "
      ]
     },
     "execution_count": 9,
     "metadata": {},
     "output_type": "execute_result"
    }
   ],
   "source": [
    "full_data.head()"
   ]
  },
  {
   "cell_type": "code",
   "execution_count": 8,
   "metadata": {},
   "outputs": [],
   "source": [
    "full_data.drop(columns='Unnamed: 0', axis=1, inplace=True)"
   ]
  },
  {
   "cell_type": "code",
   "execution_count": 10,
   "metadata": {},
   "outputs": [],
   "source": [
    "full_data.to_csv('bmore_combined_police_data.csv')"
   ]
  },
  {
   "cell_type": "code",
   "execution_count": null,
   "metadata": {},
   "outputs": [],
   "source": []
  }
 ],
 "metadata": {
  "kernelspec": {
   "display_name": "Python 3",
   "language": "python",
   "name": "python3"
  },
  "language_info": {
   "codemirror_mode": {
    "name": "ipython",
    "version": 3
   },
   "file_extension": ".py",
   "mimetype": "text/x-python",
   "name": "python",
   "nbconvert_exporter": "python",
   "pygments_lexer": "ipython3",
   "version": "3.12.4"
  },
  "orig_nbformat": 4
 },
 "nbformat": 4,
 "nbformat_minor": 2
}
